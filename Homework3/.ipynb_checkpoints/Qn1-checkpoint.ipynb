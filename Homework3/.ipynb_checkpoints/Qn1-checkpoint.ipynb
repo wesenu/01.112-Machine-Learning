{
 "cells": [
  {
   "cell_type": "code",
   "execution_count": 1,
   "metadata": {},
   "outputs": [],
   "source": [
    "import numpy as np\n",
    "from sklearn.decomposition import NMF"
   ]
  },
  {
   "cell_type": "code",
   "execution_count": 2,
   "metadata": {},
   "outputs": [],
   "source": [
    "X = np.array([[0, 1, 0], [1, 0, 1], [0, 1, 2]])\n",
    "model = NMF(n_components=3, init='random', random_state=0)\n",
    "W = model.fit_transform(X)\n",
    "H = model.components_"
   ]
  },
  {
   "cell_type": "code",
   "execution_count": 7,
   "metadata": {},
   "outputs": [
    {
     "name": "stdout",
     "output_type": "stream",
     "text": [
      "Matrix A:\n",
      "[[0.00000000e+00 9.99999983e-01 9.09117166e-05]\n",
      " [1.00000000e+00 0.00000000e+00 1.00000000e+00]\n",
      " [2.22737454e-10 1.00000002e+00 1.99990909e+00]]\n"
     ]
    }
   ],
   "source": [
    "print(\"Matrix A:\")\n",
    "print(np.dot(W, H))"
   ]
  },
  {
   "cell_type": "code",
   "execution_count": 8,
   "metadata": {},
   "outputs": [
    {
     "name": "stdout",
     "output_type": "stream",
     "text": [
      "Matrix U:\n",
      "[[0.         0.36770745 0.        ]\n",
      " [0.68714738 0.         0.03454193]\n",
      " [1.37416983 0.36770746 0.        ]]\n"
     ]
    }
   ],
   "source": [
    "print(\"Matrix U:\")\n",
    "print(W)"
   ]
  },
  {
   "cell_type": "code",
   "execution_count": 9,
   "metadata": {},
   "outputs": [
    {
     "name": "stdout",
     "output_type": "stream",
     "text": [
      "Matrix V:\n",
      "[[1.62088739e-10 0.00000000e+00 2.89503239e+01]\n",
      " [0.00000000e+00 2.71955326e+00 0.00000000e+00]\n",
      " [1.45529187e+00 2.47239259e-04 0.00000000e+00]]\n"
     ]
    }
   ],
   "source": [
    "print(\"Matrix V:\")\n",
    "print(H.T)"
   ]
  },
  {
   "cell_type": "code",
   "execution_count": null,
   "metadata": {},
   "outputs": [],
   "source": []
  }
 ],
 "metadata": {
  "kernelspec": {
   "display_name": "Python 3",
   "language": "python",
   "name": "python3"
  },
  "language_info": {
   "codemirror_mode": {
    "name": "ipython",
    "version": 3
   },
   "file_extension": ".py",
   "mimetype": "text/x-python",
   "name": "python",
   "nbconvert_exporter": "python",
   "pygments_lexer": "ipython3",
   "version": "3.7.0"
  }
 },
 "nbformat": 4,
 "nbformat_minor": 2
}
