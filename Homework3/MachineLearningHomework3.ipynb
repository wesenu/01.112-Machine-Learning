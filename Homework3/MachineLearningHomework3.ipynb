{
 "cells": [
  {
   "cell_type": "code",
   "execution_count": 51,
   "metadata": {},
   "outputs": [
    {
     "name": "stdout",
     "output_type": "stream",
     "text": [
      "Matrix A:\n",
      "[[0.074 0.182 0.379]\n",
      " [0.182 0.453 0.941]\n",
      " [0.379 0.941 1.955]]\n",
      "Matrix U:\n",
      "[[0.193]\n",
      " [0.478]\n",
      " [0.993]]\n",
      "Matrix V:\n",
      "[[0.382]\n",
      " [0.948]\n",
      " [1.969]]\n",
      "Distance from original incompleted matrix is 1.3512627170528186\n"
     ]
    }
   ],
   "source": [
    "import numpy as np\n",
    "from sklearn.decomposition import NMF\n",
    "# Non-Negative matrix Factorization\n",
    "# By using the decomposition function from sklearn library\n",
    "np.set_printoptions(precision=3)\n",
    "\n",
    "X = np.array([[0, 1, 0], [1, 0, 1], [0, 1, 2]])\n",
    "model = NMF(n_components=1, init='random', random_state=0)\n",
    "W = model.fit_transform(X)\n",
    "H = model.components_\n",
    "A = np.dot(W,H)\n",
    "print(\"Matrix A:\")\n",
    "print(A)\n",
    "Distance = ((A[0][0]-0)**2 +( A[0][1]-1)**2 + (A[1][0]-1)**2 + (A[1][2]-1)**2 +(A[2][1]-1)**2 + (A[2][2]-2)**2)\n",
    "print(\"Matrix U:\")\n",
    "print(W)\n",
    "matV = (H.T)\n",
    "print(\"Matrix V:\")\n",
    "print(matV)\n",
    "# Answer is a local minima\n",
    "# Using NMF provides better intrpretation of lower rank approximation such as this question\n",
    "print(\"Distance from original incompleted matrix is \"+ str(Distance))"
   ]
  },
  {
   "cell_type": "code",
   "execution_count": 32,
   "metadata": {},
   "outputs": [
    {
     "data": {
      "image/png": "[encoded data removed]",
      "text/plain": [
       "<Figure size 432x288 with 1 Axes>"
      ]
     },
     "metadata": {
      "needs_background": "light"
     },
     "output_type": "display_data"
    }
   ],
   "source": [
    "#Question 2 RBF SVM to classify the datas into two classes\n",
    "%matplotlib inline\n",
    "import numpy as np\n",
    "import matplotlib.pyplot as plt\n",
    "csv = 'kernel.csv'\n",
    "data =np.genfromtxt(csv,delimiter=\",\")\n",
    "X = data[:,1:] #This is an array of array, data point has two feature value x1,x2\n",
    "Y = data[:,0]\n",
    "plt.scatter(X[:,0],X[:,1],c=Y)\n",
    "plt.show()"
   ]
  },
  {
   "cell_type": "code",
   "execution_count": 2,
   "metadata": {},
   "outputs": [
    {
     "data": {
      "text/plain": [
       "array([1.])"
      ]
     },
     "execution_count": 2,
     "metadata": {},
     "output_type": "execute_result"
    }
   ],
   "source": [
    "# Using sklearn.svm.SVC module in the Python Scikit-learn package to train a kernel \n",
    "# support vector machine via the radial basis kernel.\n",
    "# Remember to set the gamma to 0.5 and kernel to rbf when initialising the object\n",
    "# (2a) Support Vector Machine\n",
    "from sklearn import svm\n",
    "\n",
    "clf = svm.SVC(C=1.0, cache_size=200, class_weight=None, coef0=0.0,\n",
    "    decision_function_shape='ovr', degree=3, gamma=0.5,\n",
    "    kernel='rbf', max_iter=-1, probability=False,\n",
    "    random_state=None, shrinking=True, tol=0.001, verbose=False)\n",
    "\n",
    "\n",
    "clf.fit(X,Y)# Train the SVM\n",
    "clf.predict([[-3, -3]]) # Testing the predictor\n"
   ]
  },
  {
   "cell_type": "code",
   "execution_count": 3,
   "metadata": {},
   "outputs": [],
   "source": [
    "#Radial Basis function (RBF)\n",
    "# RBF kernel can choose a non-linear decision boundary\n",
    "# Side notes\n",
    "# 1.\n",
    "# The dataset without a linear as can be seen above, \n",
    "# we can use RBF to automatically decide a non-linear decision boundary.\n",
    "# 2.\n",
    "# Note that regularization parameter \"The degree in which we allow violations\", also know as C parameter in sklearn library tells the SVM optimization \n",
    "# how much you want to avoid misclassifying each training example.\n",
    "# 2.a\n",
    "# For large C, the optimization will choose a smaller-margin hyperplane\n",
    "# Resulting in getting more training points to be classified correctly.\n",
    "# However may also result in overfitting problems.\n",
    "# 2.b\n",
    "# For smaller C, the optimization wil \n",
    "# This might result in a few misclassification of points.\n",
    "# This may or may not be bad, as the points may be outliers data points.\n",
    "# We should shrink to accomadate them anyway.\n",
    "# 3.a\n",
    "# Gamma parameter\n",
    "# The gamma parameter defines how far the influence of a single training\n",
    "# example reaches.\n",
    "# 3.b\n",
    "# Low Gamma means that points that are far away from the \"street boundaries\" are considered\n",
    "# in calculation.\n",
    "# 3.c\n",
    "# High Gamma parameter means that only points close to the plausible \"street bondaries\" are considered."
   ]
  },
  {
   "cell_type": "code",
   "execution_count": 4,
   "metadata": {},
   "outputs": [
    {
     "data": {
      "text/plain": [
       "array([0.08591376])"
      ]
     },
     "execution_count": 4,
     "metadata": {},
     "output_type": "execute_result"
    }
   ],
   "source": [
    "# Evaluate the kernel SVM’s decision function. You may use the decision function\n",
    "# method in sklearn.svm.SVC. You should write a function that takes coordinates\n",
    "# x1, x2 of a point x ∈ R\n",
    "\n",
    "# decision_function” that computes the signed distance of a point from the boundary. \n",
    "# A negative value indicates class 0 and a positive value would indicate class 1. \n",
    "# Also, a value close to 0 would indicate that the point is close to the boundary.\n",
    "def decision(x1,x2,clf):\n",
    "    x = np.array([x1,x2])\n",
    "    return clf.decision_function([x])\n",
    "\n",
    "decision(3.8,3.3,clf)\n"
   ]
  },
  {
   "cell_type": "code",
   "execution_count": 5,
   "metadata": {},
   "outputs": [
    {
     "data": {
      "text/plain": [
       "array([[0.18488085, 0.81511915]])"
      ]
     },
     "execution_count": 5,
     "metadata": {},
     "output_type": "execute_result"
    }
   ],
   "source": [
    "# Not in assignment just done for fun\n",
    "# Confidence measure in the classification, Class A or Class B \n",
    "# Set Probability to True.\n",
    "clf2 = svm.SVC(C=1.0, cache_size=200, class_weight=None, coef0=0.0,\n",
    "    decision_function_shape='ovr', degree=3, gamma=0.5,\n",
    "    kernel='rbf', max_iter=-1, probability=True,\n",
    "    random_state=None, shrinking=True, tol=0.001, verbose=False)\n",
    "\n",
    "clf2.fit(X,Y)\n",
    "\n",
    "def confidenceMeasure(x1,x2,clf):\n",
    "    x = np.array([[x1,x2]])\n",
    "    return clf.predict_proba(x)\n",
    "confidenceMeasure(3.8,3.3,clf2)\n",
    "\n"
   ]
  },
  {
   "cell_type": "code",
   "execution_count": 6,
   "metadata": {},
   "outputs": [
    {
     "data": {
      "image/png": "[encoded data removed]",
      "text/plain": [
       "<Figure size 432x288 with 2 Axes>"
      ]
     },
     "metadata": {
      "needs_background": "light"
     },
     "output_type": "display_data"
    }
   ],
   "source": [
    "vdecision = np.vectorize(decision,excluded=[2])\n",
    "x1list = np.linspace(-8.0,8.0,100)\n",
    "x2list = np.linspace(-8.0,8.0,100)\n",
    "X1, X2 = np.meshgrid(x1list,x2list)\n",
    "Z = vdecision(X1,X2,clf)\n",
    "cp = plt.contourf(X1,X2,Z)\n",
    "plt.colorbar(cp)\n",
    "plt.scatter(X[:,0],X[:,1],c=Y,cmap='gray')\n",
    "plt.show()"
   ]
  },
  {
   "cell_type": "code",
   "execution_count": 7,
   "metadata": {},
   "outputs": [],
   "source": [
    "# Question 3 unsupervised Deep Learning\n",
    "# Sparse autoencoder"
   ]
  },
  {
   "cell_type": "code",
   "execution_count": 8,
   "metadata": {},
   "outputs": [
    {
     "data": {
      "image/png": "[encoded data removed]",
      "text/plain": [
       "<Figure size 432x288 with 1 Axes>"
      ]
     },
     "metadata": {
      "needs_background": "light"
     },
     "output_type": "display_data"
    }
   ],
   "source": [
    "%matplotlib inline\n",
    "import numpy as np\n",
    "from numpy.linalg import norm\n",
    "import matplotlib.pyplot as plt\n",
    "from scipy.optimize import fmin_l_bfgs_b as minimize\n",
    "from utils import normalize, tile_raster_images, sigmoid\n",
    "from utils import ravelParameters, unravelParameters\n",
    "from utils import initializeParameters\n",
    "from utils import computeNumericalGradient\n",
    "nV = 8*8 # number of visible units\n",
    "nH = 25 # number of hidden units\n",
    "dW = 0.0001 # weight decay term\n",
    "sW = 3 # sparsity penalty term\n",
    "npy = 'images.npy'\n",
    "X = normalize(np.load(npy))\n",
    "plt.imshow(tile_raster_images(X=X,\n",
    "img_shape=(8,8),tile_shape=(5,5),\n",
    "tile_spacing=(1,1)),cmap='gray')\n",
    "plt.show()"
   ]
  },
  {
   "cell_type": "code",
   "execution_count": 9,
   "metadata": {},
   "outputs": [
    {
     "name": "stdout",
     "output_type": "stream",
     "text": [
      " .45.9242035420322\n",
      "[ 0.58555365  0.71681524  0.55797143 ... -0.00485197 -0.00992544\n",
      " -0.01393851]\n"
     ]
    }
   ],
   "source": [
    "# We implement the function which computes the cost and the gradient of the sparse\n",
    "# autoencoder. This function will be passed to an optimization engine, together with\n",
    "# the theta vector that contains the current state of all the model parameters. The\n",
    "# first step of the function is therefore to unpack the theta vector into W1, W2, b1, b2.\n",
    "# Some of the other steps are provided in the template below.\n",
    "nV = 8*8 # number of visible units\n",
    "nH = 25 # number of hidden units\n",
    "dW = 0.0001 # weight decay term\n",
    "sW = 3 # sparsity penalty term\n",
    "def sparseAutoencoderCost(theta,nV,nH,dW,sW,X):\n",
    "    W1,W2,b1,b2 = unravelParameters(theta,nH,nV)\n",
    "    n = X.shape[0] # 1d shaped array.\n",
    "    z2 =np.dot(X,W1)+np.dot(np.ones(b1.shape[1]),b1.T)\n",
    "    a2 = sigmoid(z2)\n",
    "    z3 =np.dot(a2,W2)+np.dot(np.ones(b2.shape[1]),b2.T)\n",
    "    a3 = sigmoid(z3)\n",
    "    eps = a3-X\n",
    "    loss =(norm(eps)**2)/(2*n)\n",
    "    decay =((norm(W1)**2)+(norm(W2)**2))/2\n",
    "    # Compute sparsity terms and total cost\n",
    "    rho = 0.01\n",
    "    a2mean = np.mean(a2,axis=0).reshape(nH,1)\n",
    "    kl = np.sum(rho*np.log(rho/a2mean)+\\\n",
    "    (1-rho)*np.log((1-rho)/(1-a2mean)))\n",
    "    dkl = -rho/a2mean+(1-rho)/(1-a2mean)\n",
    "    cost = loss+dW*decay+sW*kl\n",
    "    d3 =eps*a3*(1-a3)\n",
    "    d2 = (sW*dkl.T+np.dot(d3,W2.T))*a2*(1-a2)\n",
    "    W1grad =np.dot(X.T,d2)/n +dW*W1\n",
    "    W2grad =np.dot(a2.T,d3)/n +dW*W2\n",
    "    b1grad =np.dot(d2.T,np.ones(n))/n\n",
    "    b2grad =np.dot(d3.T,np.ones(n))/n\n",
    "    grad = ravelParameters(W1grad,W2grad,b1grad,b2grad)\n",
    "    print(' .',end=\"\")\n",
    "    return cost,grad\n",
    "\n",
    "\n",
    "theta = initializeParameters(nH,nV)\n",
    "cost,grad = sparseAutoencoderCost(theta,nV,nH,dW,sW,X)\n",
    "\n",
    "print(cost)\n",
    "print(grad)"
   ]
  },
  {
   "cell_type": "code",
   "execution_count": 10,
   "metadata": {},
   "outputs": [
    {
     "name": "stdout",
     "output_type": "stream",
     "text": [
      "\n",
      "Comparing numerical gradient with backprop gradient\n",
      " . . . . . . . . . .\n",
      " [[-0.00344644 -0.00344644]\n",
      " [ 0.00689106  0.00689106]\n",
      " [ 0.01094081  0.01094081]\n",
      " [-0.00021299 -0.00021299]\n",
      " [-0.00873516 -0.00873516]]\n",
      "The relative difference is 8.225910260203324e-10\n"
     ]
    }
   ],
   "source": [
    "print('\\nComparing numerical gradient with backprop gradient')\n",
    "num_coords = 5\n",
    "indices = np.random.choice(theta.size,num_coords,replace=False)\n",
    "numgrad = computeNumericalGradient(lambda t:\n",
    "sparseAutoencoderCost(t,nV,nH,dW,sW,X)[0],theta,indices)\n",
    "subnumgrad = numgrad[indices]\n",
    "subgrad = grad[indices]\n",
    "diff = norm(subnumgrad-subgrad)/norm(subnumgrad+subgrad)\n",
    "print('\\n',np.array([subnumgrad,subgrad]).T)\n",
    "print('The relative difference is',diff)"
   ]
  },
  {
   "cell_type": "code",
   "execution_count": 11,
   "metadata": {},
   "outputs": [
    {
     "name": "stdout",
     "output_type": "stream",
     "text": [
      "\n",
      "Training neural network\n",
      " . . . . . . . . . . . . . . . . . . . . . . . . . . . . . . . . . . . . . . . . . . . . . . . . . . . . . . . . . . . . . . . . . . . . . . . . . . . . . . . . . . . . . . . . . . . . . . . . . . . . . . . . . . . . . . . . . . . . . . . . . . . . . . . . . . . . . . . . . . . . . . . . . . . . . . . . . . . . . . . . . . . . . . . . . . . . . . . . . . . . . . . . . . . . . . . . . . . . . . . . . . . . . . . . . . . . . . . . . . . . . . . . . . . . . . . . . . . . . . . . . . . . . . . . . . . . . . . . . . . . . . . . . . . . . . . . . . . . . . . . . . . . . . . . . . . . . . . . . . . . . . . . . . . . . . . . . . . . . . . . . . . . . . . . . . . . . . . . . . . . . . . . . . . . . . . . . . . . . . . . . . . . . . . . . . . . . . . . . . . . . . . . . . . . . . . . . . . . . . . . . . . . . . . . . . . . . . . . . . . . . ."
     ]
    },
    {
     "data": {
      "image/png": "[encoded data removed]",
      "text/plain": [
       "<Figure size 432x288 with 1 Axes>"
      ]
     },
     "metadata": {
      "needs_background": "light"
     },
     "output_type": "display_data"
    }
   ],
   "source": [
    "print('\\nTraining neural network')\n",
    "theta = initializeParameters(nH,nV)\n",
    "opttheta,cost,messages = minimize(sparseAutoencoderCost,\n",
    "theta,fprime=None,maxiter=400,args=(nV,nH,dW,sW,X))\n",
    "W1,W2,b1,b2 = unravelParameters(opttheta,nH,nV)\n",
    "plt.imshow(tile_raster_images(X=W1.T,\n",
    "img_shape=(8,8),tile_shape=(5,5),\n",
    "tile_spacing=(1,1)),cmap='gray')\n",
    "plt.show()"
   ]
  },
  {
   "cell_type": "code",
   "execution_count": 34,
   "metadata": {},
   "outputs": [],
   "source": [
    "# Question 4\n",
    "# (a) In the slides of Lecture 8 (generative model), we discussed using MLE to calculate\n",
    "# the probability of word w so that the probability that a document is generated is\n",
    "# maximized. Please take a look at slides 13 and 14, and proof how θw is derived.\n",
    "# Does it matter whether W denotes the collection of words in document S or the\n",
    "# collection of words in the dictionary?\n",
    "# (b) In slide 15 of Lecture 8, we discussed how to estimate the parameters (µ and σ)\n",
    "# so that the data samples are generated with a maximum probability under the\n",
    "# spherical Gaussian assumption. Please demonstrate how µ and σ are derived based\n",
    "# on MLE.\n",
    "#These is on PDF format written.\n",
    "\n"
   ]
  },
  {
   "cell_type": "code",
   "execution_count": null,
   "metadata": {},
   "outputs": [],
   "source": []
  }
 ],
 "metadata": {
  "kernelspec": {
   "display_name": "Python 3",
   "language": "python",
   "name": "python3"
  },
  "language_info": {
   "codemirror_mode": {
    "name": "ipython",
    "version": 3
   },
   "file_extension": ".py",
   "mimetype": "text/x-python",
   "name": "python",
   "nbconvert_exporter": "python",
   "pygments_lexer": "ipython3",
   "version": "3.7.0"
  }
 },
 "nbformat": 4,
 "nbformat_minor": 2
}
